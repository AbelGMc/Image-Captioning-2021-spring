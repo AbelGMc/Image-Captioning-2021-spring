{
 "metadata": {
  "orig_nbformat": 4,
  "kernelspec": {
   "name": "transformers",
   "display_name": "transformers",
   "language": "python"
  }
 },
 "nbformat": 4,
 "nbformat_minor": 2,
 "cells": [
  {
   "cell_type": "code",
   "execution_count": 1,
   "metadata": {},
   "outputs": [],
   "source": [
    "import json\n",
    "import numpy as np\n",
    "import pandas as pd\n",
    "import pickle\n",
    "\n",
    "name2index_file = open(\"../data/name2index.pkl\", \"rb\")\n",
    "name2index = pickle.load(name2index_file)\n",
    "\n",
    "index2name = {index:name for name,index in name2index.items()}"
   ]
  },
  {
   "cell_type": "code",
   "execution_count": 3,
   "metadata": {},
   "outputs": [],
   "source": [
    "with open('../data/flickr8ktrain.txt') as f:\n",
    "    train_names = f.readlines()   \n",
    "with open('../data/flickr8kval.txt') as f:\n",
    "    val_names = f.readlines()   \n",
    "with open('../data/flickr8ktest.txt') as f:\n",
    "    test_names = f.readlines()   \n",
    "train_id = [name2index[w[0:-1]] for w in train_names]\n",
    "val_id = [name2index[w[0:-1]] for w in val_names]\n",
    "test_id = [name2index[w[0:-1]] for w in test_names]\n",
    "\n",
    "with open('../data/flickr8kzhc.caption.txt') as f:\n",
    "    chinese_caption = f.readlines()   \n",
    "with open('../data/flickr8kzhb.caption.txt') as f:\n",
    "    baidu_caption = f.readlines()   \n",
    "with open('../data/flickr8kzhg.caption.txt') as f:\n",
    "    google_caption = f.readlines() \n",
    "with open('../data/flickr8kzhmtest.captions.txt') as f:\n",
    "    en2ch_caption = f.readlines() \n",
    "\n",
    "Caption_CN = chinese_caption + en2ch_caption"
   ]
  },
  {
   "cell_type": "code",
   "execution_count": 4,
   "metadata": {},
   "outputs": [],
   "source": [
    "Caption_CN = [caption for caption in Caption_CN if (caption.split()[0][0:-10] in name2index.keys())]\n",
    "\n",
    "file_path = '../data/flickr8k_sentences_original.tok.txt'\n",
    "with open(file_path, 'r') as f:\n",
    "    Token = f.readlines()  \n",
    "\n",
    "Caption_infos = []\n",
    "for i in range(len(Caption_CN)):\n",
    "    Caption_info = {}\n",
    "    Caption_info['sentid'] = i\n",
    "    Caption_info['raw'] = Caption_CN[i].split()[1]\n",
    "    Caption_info['tokens'] = Token[i].split()\n",
    "    if Token[i].split()[-1]=='。':\n",
    "        Caption_info['tokens'] = Token[i].split()[0:-1]\n",
    "    Caption_info['imgid'] = name2index[Caption_CN[i].split()[0][0:-10]]\n",
    "    Caption_infos.append(Caption_info)\n",
    "\n",
    "Caption_infos_imgid = [name2index[caption.split()[0][0:-10]] for caption in Caption_CN]\n",
    "\n",
    "def get_index1(lst=None, item=''):\n",
    "     tmp = []\n",
    "     tag = 0\n",
    "     for i in lst:\n",
    "         if i == item:\n",
    "             tmp.append(tag)\n",
    "         tag += 1\n",
    "     return tmp\n",
    "\n",
    "\n",
    "images = []\n",
    "for id in train_id+test_id+val_id:\n",
    "    img_data = {}\n",
    "    \n",
    "    img_data['filepath'] = 'flick8kcn_images'\n",
    "    img_data['imgid'] = id\n",
    "    img_data['sentids'] = get_index1(Caption_infos_imgid,img_data['imgid'])\n",
    "    img_data['filename'] = index2name[id]+'.jpg'\n",
    "    if img_data['imgid'] in train_id:\n",
    "        img_data['split'] = 'train'\n",
    "    elif img_data['imgid'] in val_id:\n",
    "        img_data['split'] = 'val'\n",
    "    elif img_data['imgid'] in test_id:\n",
    "        img_data['split'] = 'test'\n",
    "\n",
    "    img_data['sentences'] = [caption_info for caption_info in Caption_infos if caption_info['imgid'] is img_data['imgid']] \n",
    "\n",
    "    img_data['flickr8kcnid'] = img_data['imgid']\n",
    "\n",
    "    images.append(img_data)\n",
    "\n",
    "Data_json = {}\n",
    "Data_json['dataset'] = \"flickr8kcn\"\n",
    "Data_json['images'] = images\n"
   ]
  },
  {
   "cell_type": "code",
   "execution_count": 5,
   "metadata": {},
   "outputs": [
    {
     "output_type": "execute_result",
     "data": {
      "text/plain": [
       "8000"
      ]
     },
     "metadata": {},
     "execution_count": 5
    }
   ],
   "source": [
    "len(images)"
   ]
  },
  {
   "cell_type": "code",
   "execution_count": 6,
   "metadata": {},
   "outputs": [
    {
     "output_type": "execute_result",
     "data": {
      "text/plain": [
       "{5, 10}"
      ]
     },
     "metadata": {},
     "execution_count": 6
    }
   ],
   "source": [
    "set([len(img_data['sentids']) for img_data in images])"
   ]
  },
  {
   "cell_type": "code",
   "execution_count": null,
   "metadata": {},
   "outputs": [],
   "source": []
  }
 ]
}