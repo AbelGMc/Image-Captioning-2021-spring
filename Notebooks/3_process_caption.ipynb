{
 "metadata": {
  "language_info": {
   "codemirror_mode": {
    "name": "ipython",
    "version": 3
   },
   "file_extension": ".py",
   "mimetype": "text/x-python",
   "name": "python",
   "nbconvert_exporter": "python",
   "pygments_lexer": "ipython3",
   "version": "3.8.10"
  },
  "orig_nbformat": 4,
  "kernelspec": {
   "name": "python3",
   "display_name": "Python 3.8.10 64-bit ('labusr': conda)"
  },
  "interpreter": {
   "hash": "f3033dbcbae6bb642ed57e4081e4d44f6ee06ab71c363517056fcbe5febdb814"
  }
 },
 "nbformat": 4,
 "nbformat_minor": 2,
 "cells": [
  {
   "source": [
    "In this notebook, I transfer captioning data into .json file"
   ],
   "cell_type": "markdown",
   "metadata": {}
  },
  {
   "cell_type": "code",
   "execution_count": 1,
   "metadata": {},
   "outputs": [],
   "source": [
    "import json\n",
    "import numpy as np\n",
    "import pandas as pd\n",
    "import pickle\n",
    "\n",
    "name2index_file = open(\"../data/name2index.pkl\", \"rb\")\n",
    "name2index = pickle.load(name2index_file)\n",
    "\n",
    "index2name = {index:name for name,index in name2index.items()}"
   ]
  },
  {
   "cell_type": "code",
   "execution_count": 3,
   "metadata": {},
   "outputs": [
    {
     "output_type": "stream",
     "name": "stdout",
     "text": [
      "Building prefix dict from the default dictionary ...\n",
      "Loading model from cache /tmp/jieba.cache\n",
      "Loading model cost 0.383 seconds.\n",
      "Prefix dict has been built successfully.\n"
     ]
    }
   ],
   "source": [
    "with open('../data/flickr8ktrain.txt') as f:\n",
    "    train_names = f.readlines()   \n",
    "with open('../data/flickr8kval.txt') as f:\n",
    "    val_names = f.readlines()   \n",
    "with open('../data/flickr8ktest.txt') as f:\n",
    "    test_names = f.readlines()   \n",
    "train_id = [name2index[w[0:-1]] for w in train_names]\n",
    "val_id = [name2index[w[0:-1]] for w in val_names]\n",
    "test_id = [name2index[w[0:-1]] for w in test_names]\n",
    "\n",
    "with open('../data/flickr8kzhc.caption.txt') as f:\n",
    "    chinese_caption = f.readlines()   \n",
    "with open('../data/flickr8kzhb.caption.txt') as f:\n",
    "    baidu_caption = f.readlines()   \n",
    "with open('../data/flickr8kzhg.caption.txt') as f:\n",
    "    google_caption = f.readlines() \n",
    "with open('../data/flickr8kzhmtest.captions.txt') as f:\n",
    "    en2ch_caption = f.readlines() \n",
    "\n",
    "Caption_CN = chinese_caption + baidu_caption + google_caption + en2ch_caption\n",
    "# there are one set each for google and baidu, with invalid image name.\n",
    "Caption_CN = [caption for caption in Caption_CN if (caption.split()[0][0:-10] in name2index.keys())]\n",
    "\n",
    "file_path = '../data/flickr8k_sentences.txt'\n",
    "with open(file_path, 'w') as f:\n",
    "    for caption in Caption_CN:\n",
    "        f.write(caption.split()[1])\n",
    "        f.write('\\n')\n",
    "\n",
    "\n",
    "! python -m jieba -d ' ' < ../data/flickr8k_sentences.txt > ../data/flickr8k_sentences.tok.txt\n",
    "\n",
    "file_path = '../data/flickr8k_sentences.tok.txt'\n",
    "with open(file_path, 'r') as f:\n",
    "    Token = f.readlines()  \n"
   ]
  },
  {
   "cell_type": "code",
   "execution_count": 4,
   "metadata": {},
   "outputs": [],
   "source": [
    "Caption_infos = []\n",
    "for i in range(len(Caption_CN)):\n",
    "    Caption_info = {}\n",
    "    Caption_info['sentid'] = i\n",
    "    Caption_info['raw'] = Caption_CN[i].split()[1]\n",
    "    Caption_info['tokens'] = Token[i].split()\n",
    "    if Token[i].split()[-1]=='。':\n",
    "        Caption_info['tokens'] = Token[i].split()[0:-1]\n",
    "    Caption_info['imgid'] = name2index[Caption_CN[i].split()[0][0:-10]]\n",
    "    Caption_infos.append(Caption_info)\n",
    "\n",
    "Caption_infos_imgid = [name2index[caption.split()[0][0:-10]] for caption in Caption_CN]"
   ]
  },
  {
   "cell_type": "code",
   "execution_count": 5,
   "metadata": {},
   "outputs": [],
   "source": [
    "def get_index1(lst=None, item=''):\n",
    "     tmp = []\n",
    "     tag = 0\n",
    "     for i in lst:\n",
    "         if i == item:\n",
    "             tmp.append(tag)\n",
    "         tag += 1\n",
    "     return tmp\n",
    "\n",
    "\n",
    "images = []\n",
    "for id in train_id+test_id+val_id:\n",
    "    img_data = {}\n",
    "    \n",
    "    img_data['filepath'] = 'flick8kcn_images'\n",
    "    img_data['imgid'] = id\n",
    "    img_data['sentids'] = get_index1(Caption_infos_imgid,img_data['imgid'])\n",
    "    img_data['filename'] = index2name[id]+'.jpg'\n",
    "    if img_data['imgid'] in train_id:\n",
    "        img_data['split'] = 'train'\n",
    "    elif img_data['imgid'] in val_id:\n",
    "        img_data['split'] = 'val'\n",
    "    elif img_data['imgid'] in test_id:\n",
    "        img_data['split'] = 'test'\n",
    "\n",
    "    img_data['sentences'] = [caption_info for caption_info in Caption_infos if caption_info['imgid'] is img_data['imgid']] \n",
    "\n",
    "    img_data['flickr8kcnid'] = img_data['imgid']\n",
    "\n",
    "    images.append(img_data)\n",
    "\n",
    "Data_json = {}\n",
    "Data_json['dataset'] = \"flickr8kcn\"\n",
    "Data_json['images'] = images"
   ]
  },
  {
   "cell_type": "code",
   "execution_count": 6,
   "metadata": {},
   "outputs": [
    {
     "output_type": "execute_result",
     "data": {
      "text/plain": [
       "'一个攀岩者正在一面攀岩壁上练习。'"
      ]
     },
     "metadata": {},
     "execution_count": 6
    }
   ],
   "source": [
    "Caption_CN[i].split()[1]"
   ]
  },
  {
   "cell_type": "code",
   "execution_count": 7,
   "metadata": {},
   "outputs": [],
   "source": [
    "with open('../data/flickr8kcn_all.json', 'w',encoding=\"utf-8\") as f:\n",
    "    json.dump(Data_json,f,ensure_ascii=False)"
   ]
  },
  {
   "cell_type": "code",
   "execution_count": 8,
   "metadata": {},
   "outputs": [
    {
     "output_type": "stream",
     "name": "stdout",
     "text": [
      "{\"dataset\": \"flickr8kcn\", \"images\": [{\"filepath\": \"flick8kcn_images\", \"imgid\": 2127, \"sentids\": [3468, 11559, 19650, 27741, 35832, 51090, 51091, 51092, 51093, 51094, 91545, 91546, 91547, 91548, 91549], \"filename\": \"2513260012_03d33305cf.jpg\", \"split\": \"train\", \"sentences\": [{\"sentid\": 3468, \"raw\": \"在雪地中奔跑的狗。\", \"tokens\": [\"在\", \"雪地\", \"中\", \"奔跑\", \"的\", \"狗\"], \"imgid\": 2127}, {\"sentid\": 11559, \"raw\": \"正在跑的黑狗和白狗。\", \"tokens\": [\"正在\", \"跑\", \"的\", \"黑狗\", \"和\", \"白狗\"], \"imgid\": 2127}, {\"sentid\": 19650, \"raw\": \"在雪地上跑的狗。\", \"tokens\": [\"在\", \"雪地\", \"上\", \"跑\", \"的\", \"狗\"], \"imgid\": 2127}, {\"sentid\": 27741, \"raw\": \"雪地上黑狗追白狗。\", \"tokens\": [\"雪地\", \"上\", \"黑狗\", \"追白狗\"], \"imgid\": 2127}, {\"sent"
     ]
    }
   ],
   "source": [
    "! head -c 800 ../data/flickr8kcn_all.json"
   ]
  },
  {
   "cell_type": "code",
   "execution_count": null,
   "metadata": {},
   "outputs": [],
   "source": []
  },
  {
   "cell_type": "code",
   "execution_count": null,
   "metadata": {},
   "outputs": [],
   "source": []
  },
  {
   "cell_type": "code",
   "execution_count": null,
   "metadata": {},
   "outputs": [],
   "source": []
  },
  {
   "cell_type": "code",
   "execution_count": null,
   "metadata": {},
   "outputs": [],
   "source": []
  },
  {
   "cell_type": "code",
   "execution_count": null,
   "metadata": {},
   "outputs": [],
   "source": []
  },
  {
   "cell_type": "code",
   "execution_count": 2,
   "metadata": {},
   "outputs": [
    {
     "output_type": "stream",
     "name": "stdout",
     "text": [
      "Building prefix dict from the default dictionary ...\n",
      "Loading model from cache /tmp/jieba.cache\n",
      "Loading model cost 0.386 seconds.\n",
      "Prefix dict has been built successfully.\n"
     ]
    }
   ],
   "source": [
    "with open('../data/flickr8ktrain.txt') as f:\n",
    "    train_names = f.readlines()   \n",
    "with open('../data/flickr8kval.txt') as f:\n",
    "    val_names = f.readlines()   \n",
    "with open('../data/flickr8ktest.txt') as f:\n",
    "    test_names = f.readlines()   \n",
    "train_id = [name2index[w[0:-1]] for w in train_names]\n",
    "val_id = [name2index[w[0:-1]] for w in val_names]\n",
    "test_id = [name2index[w[0:-1]] for w in test_names]\n",
    "\n",
    "with open('../data/flickr8kzhc.caption.txt') as f:\n",
    "    chinese_caption = f.readlines()   \n",
    "with open('../data/flickr8kzhb.caption.txt') as f:\n",
    "    baidu_caption = f.readlines()   \n",
    "with open('../data/flickr8kzhg.caption.txt') as f:\n",
    "    google_caption = f.readlines() \n",
    "\n",
    "\n",
    "## No translated sentences\n",
    "Caption_CN = chinese_caption\n",
    "\n",
    "# there are one set each for google and baidu, with invalid image name.\n",
    "Caption_CN = [caption for caption in Caption_CN if (caption.split()[0][0:-10] in name2index.keys())]\n",
    "file_path = '../data/flickr8k_sentences_original.txt'\n",
    "with open(file_path, 'w') as f:\n",
    "    for caption in Caption_CN:\n",
    "        f.write(caption.split()[1])\n",
    "        f.write('\\n')\n",
    "\n",
    "\n",
    "! python -m jieba -d ' ' < ../data/flickr8k_sentences_original.txt > ../data/flickr8k_sentences_original.tok.txt\n",
    "\n",
    "file_path = '../data/flickr8k_sentences_original.tok.txt'\n",
    "with open(file_path, 'r') as f:\n",
    "    Token = f.readlines()  \n",
    "\n",
    "Caption_infos = []\n",
    "for i in range(len(Caption_CN)):\n",
    "    Caption_info = {}\n",
    "    Caption_info['sentid'] = i\n",
    "    Caption_info['raw'] = Caption_CN[i].split()[1]\n",
    "    Caption_info['tokens'] = Token[i].split()\n",
    "    if Token[i].split()[-1]=='。':\n",
    "        Caption_info['tokens'] = Token[i].split()[0:-1]\n",
    "    Caption_info['imgid'] = name2index[Caption_CN[i].split()[0][0:-10]]\n",
    "    Caption_infos.append(Caption_info)\n",
    "\n",
    "Caption_infos_imgid = [name2index[caption.split()[0][0:-10]] for caption in Caption_CN]\n",
    "\n",
    "def get_index1(lst=None, item=''):\n",
    "     tmp = []\n",
    "     tag = 0\n",
    "     for i in lst:\n",
    "         if i == item:\n",
    "             tmp.append(tag)\n",
    "         tag += 1\n",
    "     return tmp\n",
    "\n",
    "\n",
    "images = []\n",
    "for id in train_id+test_id+val_id:\n",
    "    img_data = {}\n",
    "    \n",
    "    img_data['filepath'] = 'flick8kcn_images'\n",
    "    img_data['imgid'] = id\n",
    "    img_data['sentids'] = get_index1(Caption_infos_imgid,img_data['imgid'])\n",
    "    img_data['filename'] = index2name[id]+'.jpg'\n",
    "    if img_data['imgid'] in train_id:\n",
    "        img_data['split'] = 'train'\n",
    "    elif img_data['imgid'] in val_id:\n",
    "        img_data['split'] = 'val'\n",
    "    elif img_data['imgid'] in test_id:\n",
    "        img_data['split'] = 'test'\n",
    "\n",
    "    img_data['sentences'] = [caption_info for caption_info in Caption_infos if caption_info['imgid'] is img_data['imgid']] \n",
    "\n",
    "    img_data['flickr8kcnid'] = img_data['imgid']\n",
    "\n",
    "    images.append(img_data)\n",
    "\n",
    "Data_json = {}\n",
    "Data_json['dataset'] = \"flickr8kcn\"\n",
    "Data_json['images'] = images\n",
    "\n",
    "with open('../data/flickr8kcn_original.json', 'w',encoding=\"utf-8\") as f:\n",
    "    json.dump(Data_json,  f,ensure_ascii=False)\n",
    "\n",
    "\n",
    "\n"
   ]
  },
  {
   "cell_type": "code",
   "execution_count": null,
   "metadata": {},
   "outputs": [],
   "source": []
  }
 ]
}