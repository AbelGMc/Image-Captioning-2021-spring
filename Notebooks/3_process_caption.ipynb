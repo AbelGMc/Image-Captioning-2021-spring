{
 "metadata": {
  "language_info": {
   "codemirror_mode": {
    "name": "ipython",
    "version": 3
   },
   "file_extension": ".py",
   "mimetype": "text/x-python",
   "name": "python",
   "nbconvert_exporter": "python",
   "pygments_lexer": "ipython3",
   "version": "3.8.10"
  },
  "orig_nbformat": 4,
  "kernelspec": {
   "name": "python3",
   "display_name": "Python 3.8.10 64-bit ('labusr': conda)"
  },
  "interpreter": {
   "hash": "f3033dbcbae6bb642ed57e4081e4d44f6ee06ab71c363517056fcbe5febdb814"
  }
 },
 "nbformat": 4,
 "nbformat_minor": 2,
 "cells": [
  {
   "source": [
    "In this notebook, I transfer captioning data into .json file"
   ],
   "cell_type": "markdown",
   "metadata": {}
  },
  {
   "cell_type": "code",
   "execution_count": 3,
   "metadata": {},
   "outputs": [],
   "source": [
    "import json\n",
    "import numpy as np\n",
    "import pandas as pd\n",
    "import pickle\n",
    "\n",
    "name2index_file = open(\"../data/name2index.pkl\", \"rb\")\n",
    "name2index = pickle.load(name2index_file)"
   ]
  },
  {
   "cell_type": "code",
   "execution_count": 24,
   "metadata": {},
   "outputs": [
    {
     "output_type": "stream",
     "name": "stdout",
     "text": [
      "Building prefix dict from the default dictionary ...\n",
      "Loading model from cache /tmp/jieba.cache\n",
      "Loading model cost 0.385 seconds.\n",
      "Prefix dict has been built successfully.\n"
     ]
    }
   ],
   "source": [
    "with open('../data/flickr8ktrain.txt') as f:\n",
    "    train_names = f.readlines()   \n",
    "with open('../data/flickr8kval.txt') as f:\n",
    "    val_names = f.readlines()   \n",
    "with open('../data/flickr8ktest.txt') as f:\n",
    "    test_names = f.readlines()   \n",
    "train_id = [name2index[w[0:-1]] for w in train_names]\n",
    "val_id = [name2index[w[0:-1]] for w in val_names]\n",
    "test_id = [name2index[w[0:-1]] for w in test_names]\n",
    "\n",
    "with open('../data/flickr8kzhc.caption.txt') as f:\n",
    "    chinese_caption = f.readlines()   \n",
    "with open('../data/flickr8kzhb.caption.txt') as f:\n",
    "    baidu_caption = f.readlines()   \n",
    "with open('../data/flickr8kzhg.caption.txt') as f:\n",
    "    google_caption = f.readlines() \n",
    "\n",
    "Caption_CN = chinese_caption + baidu_caption + google_caption\n",
    "# there are one set each for google and baidu, with invalid image name.\n",
    "Caption_CN = [caption for caption in Caption_CN if (caption.split()[0][0:-10] in name2index.keys())]\n",
    "file_path = '../data/flickr8k_sentences.txt'\n",
    "with open(file_path, 'w') as f:\n",
    "    for caption in Caption_CN:\n",
    "        f.write(caption.split()[1])\n",
    "        f.write('\\n')\n",
    "\n",
    "\n",
    "! python -m jieba -d ' ' < ../data/flickr8k_sentences.txt > ../data/flickr8k_sentences.tok.txt\n",
    "\n",
    "file_path = '../data/flickr8k_sentences.tok.txt'\n",
    "with open(file_path, 'r') as f:\n",
    "    Token = f.readlines()  \n"
   ]
  },
  {
   "cell_type": "code",
   "execution_count": 30,
   "metadata": {},
   "outputs": [],
   "source": [
    "Caption_infos = []\n",
    "for i in range(len(Caption_CN)):\n",
    "    Caption_info = {}\n",
    "    Caption_info['sentid'] = i\n",
    "    Caption_info['raw'] = u(Caption_CN[i].split()[1])\n",
    "    Caption_info['tokens'] = Token[i].split()\n",
    "    Caption_info['imgid'] = name2index[Caption_CN[i].split()[0][0:-10]]\n",
    "    Caption_infos.append(Caption_info)\n",
    "\n",
    "Caption_infos_imgid = [name2index[caption.split()[0][0:-10]] for caption in Caption_CN]\n",
    "\n",
    "def get_index1(lst=None, item=''):\n",
    "     tmp = []\n",
    "     tag = 0\n",
    "     for i in lst:\n",
    "         if i == item:\n",
    "             tmp.append(tag)\n",
    "         tag += 1\n",
    "     return tmp\n",
    "\n",
    "\n",
    "images = []\n",
    "for name in name2index.keys():\n",
    "    img_data = {}\n",
    "    \n",
    "    img_data['filepath'] = 'flick8kcn_images'\n",
    "    img_data['imgid'] = name2index[name]\n",
    "    img_data['sentids'] = get_index1(Caption_infos_imgid,img_data['imgid'])\n",
    "    img_data['filename'] = name+'.jpg'\n",
    "    if img_data['imgid'] in train_id:\n",
    "        img_data['split'] = 'train'\n",
    "    elif img_data['imgid'] in val_id:\n",
    "        img_data['split'] = 'val'\n",
    "    elif img_data['imgid'] in test_id:\n",
    "        img_data['split'] = 'test'\n",
    "\n",
    "    img_data['sentences'] = [caption_info for caption_info in Caption_infos if caption_info['imgid'] is img_data['imgid']] \n",
    "\n",
    "    img_data['flickr8kcnid'] = img_data['imgid']\n",
    "\n",
    "    images.append(img_data)\n",
    "\n",
    "Data_json = {}\n",
    "Data_json['dataset'] = \"flickr8kcn\"\n",
    "Data_json['images'] = images"
   ]
  },
  {
   "cell_type": "code",
   "execution_count": 44,
   "metadata": {},
   "outputs": [
    {
     "output_type": "execute_result",
     "data": {
      "text/plain": [
       "'在攀岩墙上的攀岩者的做法。'"
      ]
     },
     "metadata": {},
     "execution_count": 44
    }
   ],
   "source": [
    "Caption_CN[i].split()[1]"
   ]
  },
  {
   "cell_type": "code",
   "execution_count": 58,
   "metadata": {},
   "outputs": [],
   "source": [
    "with open('../data/flickr8kcn.json', 'w',encoding=\"utf-8\") as f:\n",
    "    json.dump(Data_json,  f,ensure_ascii=False)"
   ]
  },
  {
   "cell_type": "code",
   "execution_count": 59,
   "metadata": {},
   "outputs": [
    {
     "output_type": "stream",
     "name": "stdout",
     "text": [
      "{\"dataset\": \"flickr8kcn\", \"images\": [{\"filepath\": \"flick8kcn_images\", \"imgid\": 0, \"sentids\": [1687, 9778, 17869, 25960, 34051, 40455, 40456, 40457, 40458, 40459, 80910, 80911, 80912, 80913, 80914], \"filename\": \"1000268201_693b08cb0e.jpg\", \"split\": \"train\", \"sentences\": [{\"sentid\": 1687, \"raw\": \"穿着连衣裙的小女孩。\", \"tokens\": [\"穿着\", \"连衣裙\", \"的\", \"小女孩\", \"。\"], \"imgid\": 0}, {\"sentid\": 9778, \"raw\": \"走上小屋的女孩。\", \"tokens\": [\"走上\", \"小屋\", \"的\", \"女孩\", \"。\"], \"imgid\": 0}, {\"sentid\": 17869, \"raw\": \"走上台阶的女孩。\", \"tokens\": [\"走上\", \"台阶\", \"的\", \"女孩\", \"。\"], \"imgid\": 0}, {\"sentid\": 25960, \"raw\": \"回家的小女孩。\", \"tokens\": [\"回家\", \"的\", \"小女孩\", \"。\"], \"imgid\": 0}, {\"sentid\": 34051, \"raw\": \"穿裙子的小"
     ]
    }
   ],
   "source": [
    "! head -c 800 ../data/flickr8kcn.json"
   ]
  },
  {
   "cell_type": "code",
   "execution_count": null,
   "metadata": {},
   "outputs": [],
   "source": []
  },
  {
   "cell_type": "code",
   "execution_count": null,
   "metadata": {},
   "outputs": [],
   "source": []
  },
  {
   "cell_type": "code",
   "execution_count": 5,
   "metadata": {},
   "outputs": [
    {
     "output_type": "stream",
     "name": "stdout",
     "text": [
      "Building prefix dict from the default dictionary ...\n",
      "Loading model from cache /tmp/jieba.cache\n",
      "Loading model cost 0.374 seconds.\n",
      "Prefix dict has been built successfully.\n"
     ]
    }
   ],
   "source": [
    "with open('../data/flickr8ktrain.txt') as f:\n",
    "    train_names = f.readlines()   \n",
    "with open('../data/flickr8kval.txt') as f:\n",
    "    val_names = f.readlines()   \n",
    "with open('../data/flickr8ktest.txt') as f:\n",
    "    test_names = f.readlines()   \n",
    "train_id = [name2index[w[0:-1]] for w in train_names]\n",
    "val_id = [name2index[w[0:-1]] for w in val_names]\n",
    "test_id = [name2index[w[0:-1]] for w in test_names]\n",
    "\n",
    "with open('../data/flickr8kzhc.caption.txt') as f:\n",
    "    chinese_caption = f.readlines()   \n",
    "with open('../data/flickr8kzhb.caption.txt') as f:\n",
    "    baidu_caption = f.readlines()   \n",
    "with open('../data/flickr8kzhg.caption.txt') as f:\n",
    "    google_caption = f.readlines() \n",
    "\n",
    "\n",
    "## No translated sentences\n",
    "Caption_CN = chinese_caption\n",
    "\n",
    "# there are one set each for google and baidu, with invalid image name.\n",
    "Caption_CN = [caption for caption in Caption_CN if (caption.split()[0][0:-10] in name2index.keys())]\n",
    "file_path = '../data/flickr8k_sentences_original.txt'\n",
    "with open(file_path, 'w') as f:\n",
    "    for caption in Caption_CN:\n",
    "        f.write(caption.split()[1])\n",
    "        f.write('\\n')\n",
    "\n",
    "\n",
    "! python -m jieba -d ' ' < ../data/flickr8k_sentences_original.txt > ../data/flickr8k_sentences_original.tok.txt\n",
    "\n",
    "file_path = '../data/flickr8k_sentences_original.tok.txt'\n",
    "with open(file_path, 'r') as f:\n",
    "    Token = f.readlines()  \n",
    "\n",
    "Caption_infos = []\n",
    "for i in range(len(Caption_CN)):\n",
    "    Caption_info = {}\n",
    "    Caption_info['sentid'] = i\n",
    "    Caption_info['raw'] = Caption_CN[i].split()[1]\n",
    "    Caption_info['tokens'] = Token[i].split()\n",
    "    Caption_info['imgid'] = name2index[Caption_CN[i].split()[0][0:-10]]\n",
    "    Caption_infos.append(Caption_info)\n",
    "\n",
    "Caption_infos_imgid = [name2index[caption.split()[0][0:-10]] for caption in Caption_CN]\n",
    "\n",
    "def get_index1(lst=None, item=''):\n",
    "     tmp = []\n",
    "     tag = 0\n",
    "     for i in lst:\n",
    "         if i == item:\n",
    "             tmp.append(tag)\n",
    "         tag += 1\n",
    "     return tmp\n",
    "\n",
    "\n",
    "images = []\n",
    "for name in name2index.keys():\n",
    "    img_data = {}\n",
    "    \n",
    "    img_data['filepath'] = 'flick8kcn_images'\n",
    "    img_data['imgid'] = name2index[name]\n",
    "    img_data['sentids'] = get_index1(Caption_infos_imgid,img_data['imgid'])\n",
    "    img_data['filename'] = name+'.jpg'\n",
    "    if img_data['imgid'] in train_id:\n",
    "        img_data['split'] = 'train'\n",
    "    elif img_data['imgid'] in val_id:\n",
    "        img_data['split'] = 'val'\n",
    "    elif img_data['imgid'] in test_id:\n",
    "        img_data['split'] = 'test'\n",
    "\n",
    "    img_data['sentences'] = [caption_info for caption_info in Caption_infos if caption_info['imgid'] is img_data['imgid']] \n",
    "\n",
    "    img_data['flickr8kcnid'] = img_data['imgid']\n",
    "\n",
    "    images.append(img_data)\n",
    "\n",
    "Data_json = {}\n",
    "Data_json['dataset'] = \"flickr8kcn\"\n",
    "Data_json['images'] = images\n",
    "\n",
    "with open('../data/flickr8kcn_original.json', 'w',encoding=\"utf-8\") as f:\n",
    "    json.dump(Data_json,  f,ensure_ascii=False)\n",
    "\n",
    "\n",
    "\n"
   ]
  },
  {
   "cell_type": "code",
   "execution_count": null,
   "metadata": {},
   "outputs": [],
   "source": []
  }
 ]
}